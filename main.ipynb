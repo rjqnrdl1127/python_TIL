{
 "cells": [
  {
   "cell_type": "code",
   "execution_count": 1,
   "outputs": [],
   "source": [
    "class ListNode:\n",
    "    def __init__(self, val=0, next=None):\n",
    "        self.val = val\n",
    "        self.next = next"
   ],
   "metadata": {
    "collapsed": false
   }
  },
  {
   "cell_type": "code",
   "execution_count": 65,
   "outputs": [],
   "source": [
    "from typing import Optional\n",
    "\n",
    "def isPalindrome(self, head: Optional[ListNode]) -> bool:\n",
    "    rev = None\n",
    "    slow = fast = head\n",
    "    revs = []\n",
    "    fasts = []\n",
    "    slows = []\n",
    "    total = []\n",
    "    # 런너를 이용해 역순 연결 리스트 구성\n",
    "    while fast and fast.next:\n",
    "        fast = fast.next.next\n",
    "        fasts.append(fast.val)\n",
    "        rev, rev.next, slow = slow, rev, slow.next\n",
    "        slows.append(slow.val)\n",
    "    if fast:\n",
    "        slow = slow.next\n",
    "\n",
    "    # 팰린드롬 여부 확인\n",
    "    while rev and rev.val == slow.val:\n",
    "        revs.append(rev.val)\n",
    "        slow, rev = slow.next, rev.next\n",
    "    total.append(revs)\n",
    "    total.append(fasts)\n",
    "    total.append(slows)\n",
    "\n",
    "    return total"
   ],
   "metadata": {
    "collapsed": false
   }
  },
  {
   "cell_type": "code",
   "execution_count": 66,
   "outputs": [
    {
     "ename": "AttributeError",
     "evalue": "'NoneType' object has no attribute 'val'",
     "output_type": "error",
     "traceback": [
      "\u001B[0;31m---------------------------------------------------------------------------\u001B[0m",
      "\u001B[0;31mAttributeError\u001B[0m                            Traceback (most recent call last)",
      "\u001B[0;32m/var/folders/md/mgdkgst910993hc1qvsxlkpr0000gn/T/ipykernel_62929/2385528722.py\u001B[0m in \u001B[0;36m<module>\u001B[0;34m\u001B[0m\n\u001B[1;32m     15\u001B[0m \u001B[0;34m\u001B[0m\u001B[0m\n\u001B[1;32m     16\u001B[0m \u001B[0;34m\u001B[0m\u001B[0m\n\u001B[0;32m---> 17\u001B[0;31m \u001B[0misPalindrome\u001B[0m\u001B[0;34m(\u001B[0m\u001B[0misPalindrome\u001B[0m\u001B[0;34m,\u001B[0m \u001B[0mn1\u001B[0m\u001B[0;34m)\u001B[0m\u001B[0;34m\u001B[0m\u001B[0;34m\u001B[0m\u001B[0m\n\u001B[0m",
      "\u001B[0;32m/var/folders/md/mgdkgst910993hc1qvsxlkpr0000gn/T/ipykernel_62929/1235752114.py\u001B[0m in \u001B[0;36misPalindrome\u001B[0;34m(self, head)\u001B[0m\n\u001B[1;32m     11\u001B[0m     \u001B[0;32mwhile\u001B[0m \u001B[0mfast\u001B[0m \u001B[0;32mand\u001B[0m \u001B[0mfast\u001B[0m\u001B[0;34m.\u001B[0m\u001B[0mnext\u001B[0m\u001B[0;34m:\u001B[0m\u001B[0;34m\u001B[0m\u001B[0;34m\u001B[0m\u001B[0m\n\u001B[1;32m     12\u001B[0m         \u001B[0mfast\u001B[0m \u001B[0;34m=\u001B[0m \u001B[0mfast\u001B[0m\u001B[0;34m.\u001B[0m\u001B[0mnext\u001B[0m\u001B[0;34m.\u001B[0m\u001B[0mnext\u001B[0m\u001B[0;34m\u001B[0m\u001B[0;34m\u001B[0m\u001B[0m\n\u001B[0;32m---> 13\u001B[0;31m         \u001B[0mfasts\u001B[0m\u001B[0;34m.\u001B[0m\u001B[0mappend\u001B[0m\u001B[0;34m(\u001B[0m\u001B[0mfast\u001B[0m\u001B[0;34m.\u001B[0m\u001B[0mval\u001B[0m\u001B[0;34m)\u001B[0m\u001B[0;34m\u001B[0m\u001B[0;34m\u001B[0m\u001B[0m\n\u001B[0m\u001B[1;32m     14\u001B[0m         \u001B[0mrev\u001B[0m\u001B[0;34m,\u001B[0m \u001B[0mrev\u001B[0m\u001B[0;34m.\u001B[0m\u001B[0mnext\u001B[0m\u001B[0;34m,\u001B[0m \u001B[0mslow\u001B[0m \u001B[0;34m=\u001B[0m \u001B[0mslow\u001B[0m\u001B[0;34m,\u001B[0m \u001B[0mrev\u001B[0m\u001B[0;34m,\u001B[0m \u001B[0mslow\u001B[0m\u001B[0;34m.\u001B[0m\u001B[0mnext\u001B[0m\u001B[0;34m\u001B[0m\u001B[0;34m\u001B[0m\u001B[0m\n\u001B[1;32m     15\u001B[0m         \u001B[0mslows\u001B[0m\u001B[0;34m.\u001B[0m\u001B[0mappend\u001B[0m\u001B[0;34m(\u001B[0m\u001B[0mslow\u001B[0m\u001B[0;34m.\u001B[0m\u001B[0mval\u001B[0m\u001B[0;34m)\u001B[0m\u001B[0;34m\u001B[0m\u001B[0;34m\u001B[0m\u001B[0m\n",
      "\u001B[0;31mAttributeError\u001B[0m: 'NoneType' object has no attribute 'val'"
     ]
    }
   ],
   "source": [
    "n1 = ListNode()\n",
    "n2 = ListNode()\n",
    "n3 = ListNode()\n",
    "n4 = ListNode()\n",
    "\n",
    "n1.val = 1\n",
    "n2.val = 2\n",
    "n3.val = 2\n",
    "n4.val = 1\n",
    "\n",
    "n1.next = n2\n",
    "n2.next = n3\n",
    "n3.next = n4\n",
    "nodes = [n1,n2,n3,n4]\n",
    "\n",
    "\n",
    "isPalindrome(isPalindrome, n1)"
   ],
   "metadata": {
    "collapsed": false
   }
  },
  {
   "cell_type": "code",
   "execution_count": null,
   "outputs": [],
   "source": [],
   "metadata": {
    "collapsed": false
   }
  }
 ],
 "metadata": {
  "kernelspec": {
   "display_name": "Python 3",
   "language": "python",
   "name": "python3"
  },
  "language_info": {
   "codemirror_mode": {
    "name": "ipython",
    "version": 2
   },
   "file_extension": ".py",
   "mimetype": "text/x-python",
   "name": "python",
   "nbconvert_exporter": "python",
   "pygments_lexer": "ipython2",
   "version": "2.7.6"
  }
 },
 "nbformat": 4,
 "nbformat_minor": 0
}
